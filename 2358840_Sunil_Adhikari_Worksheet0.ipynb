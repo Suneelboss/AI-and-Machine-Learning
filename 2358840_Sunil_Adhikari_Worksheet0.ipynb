{
  "nbformat": 4,
  "nbformat_minor": 0,
  "metadata": {
    "colab": {
      "provenance": []
    },
    "kernelspec": {
      "name": "python3",
      "display_name": "Python 3"
    },
    "language_info": {
      "name": "python"
    }
  },
  "cells": [
    {
      "cell_type": "markdown",
      "source": [
        "4.1 Exercise on Functions:"
      ],
      "metadata": {
        "id": "e0gE_QfWErzR"
      }
    },
    {
      "cell_type": "markdown",
      "source": [
        "TASK 1"
      ],
      "metadata": {
        "id": "7xEWex4dHps0"
      }
    },
    {
      "cell_type": "markdown",
      "source": [
        "Create a Python program that converts between different units of measurement."
      ],
      "metadata": {
        "id": "nnrqc667H9RK"
      }
    },
    {
      "cell_type": "code",
      "source": [
        "def convert_length(value, unit):\n",
        "    \"\"\"\n",
        "    Change length between meters and feet.\n",
        "    \"\"\"\n",
        "    if unit == 'm':\n",
        "        return value * 3.28084  # Change meters to feet\n",
        "    elif unit == 'ft':\n",
        "        return value / 3.28084  # Change feet to meters\n",
        "    else:\n",
        "        raise ValueError(\"Wrong unit for length.\")\n",
        "\n",
        "def convert_weight(value, unit):\n",
        "    \"\"\"\n",
        "    Change weight between kg and lbs.\n",
        "    \"\"\"\n",
        "    if unit == 'kg':\n",
        "        return value * 2.20462  # Change kg to lbs\n",
        "    elif unit == 'lbs':\n",
        "        return value / 2.20462  # Change lbs to kg\n",
        "    else:\n",
        "        raise ValueError(\"Wrong unit for weight.\")\n",
        "\n",
        "def convert_volume(value, unit):\n",
        "    \"\"\"\n",
        "    Change volume between liters and gallons.\n",
        "    \"\"\"\n",
        "    if unit == 'L':\n",
        "        return value * 0.264172  # Change liters to gallons\n",
        "    elif unit == 'gal':\n",
        "        return value / 0.264172  # Change gallons to liters\n",
        "    else:\n",
        "        raise ValueError(\"Wrong unit for volume.\")\n",
        "\n",
        "def main():\n",
        "    print(\"Unit Conversion Program\")\n",
        "    print(\"1. Length: meters to feet or feet to meters\")\n",
        "    print(\"2. Weight: kg to lbs or lbs to kg\")\n",
        "    print(\"3. Volume: liters to gallons or gallons to liters\")\n",
        "\n",
        "    try:\n",
        "        choice = int(input(\"Choose conversion type (1/2/3): \"))\n",
        "        value = float(input(\"Enter value to convert: \"))\n",
        "\n",
        "        if choice == 1:\n",
        "            unit = input(\"Enter unit (m for meters, ft for feet): \").strip().lower()\n",
        "            result = convert_length(value, unit)\n",
        "            print(f\"Converted value: {result:.2f}\")\n",
        "        elif choice == 2:\n",
        "            unit = input(\"Enter unit (kg for kilograms, lbs for pounds): \").strip().lower()\n",
        "            result = convert_weight(value, unit)\n",
        "            print(f\"Converted value: {result:.2f}\")\n",
        "        elif choice == 3:\n",
        "            unit = input(\"Enter unit (L for liters, gal for gallons): \").strip().lower()\n",
        "            result = convert_volume(value, unit)\n",
        "            print(f\"Converted value: {result:.2f}\")\n",
        "        else:\n",
        "            print(\"Wrong choice. Pick 1, 2, or 3.\")\n",
        "    except ValueError as e:\n",
        "        print(f\"Error: {e}. Enter correct number and unit.\")\n",
        "\n",
        "if __name__ == \"__main__\":\n",
        "    main()"
      ],
      "metadata": {
        "colab": {
          "base_uri": "https://localhost:8080/"
        },
        "id": "6oq1soBkE16e",
        "outputId": "4000b031-ca2f-4c57-a9d8-484698d673f3"
      },
      "execution_count": null,
      "outputs": [
        {
          "output_type": "stream",
          "name": "stdout",
          "text": [
            "Unit Conversion Program\n",
            "1. Length: meters to feet or feet to meters\n",
            "2. Weight: kg to lbs or lbs to kg\n",
            "3. Volume: liters to gallons or gallons to liters\n"
          ]
        }
      ]
    },
    {
      "cell_type": "markdown",
      "source": [
        "TASK 2"
      ],
      "metadata": {
        "id": "Up0EwqKyHSih"
      }
    },
    {
      "cell_type": "markdown",
      "source": [
        " Create a Python program that performs various mathematical operations on a list of numbers"
      ],
      "metadata": {
        "id": "PL_wZPxbICop"
      }
    },
    {
      "cell_type": "code",
      "source": [
        "def find_sum(numbers):\n",
        "    \"\"\"\n",
        "    Add all numbers in the list and return the total.\n",
        "    \"\"\"\n",
        "    return sum(numbers)\n",
        "\n",
        "def find_average(numbers):\n",
        "    \"\"\"\n",
        "    Calculate the average by dividing the total by the number of items.\n",
        "    \"\"\"\n",
        "    return sum(numbers) / len(numbers)\n",
        "\n",
        "def find_maximum(numbers):\n",
        "    \"\"\"\n",
        "    Find and return the largest number in the list.\n",
        "    \"\"\"\n",
        "    return max(numbers)\n",
        "\n",
        "def find_minimum(numbers):\n",
        "    \"\"\"\n",
        "    Find and return the smallest number in the list.\n",
        "    \"\"\"\n",
        "    return min(numbers)\n",
        "\n",
        "def main():\n",
        "    print(\"Math Operations on a List\")\n",
        "    print(\"1. Find Sum\")\n",
        "    print(\"2. Find Average\")\n",
        "    print(\"3. Find Maximum\")\n",
        "    print(\"4. Find Minimum\")\n",
        "\n",
        "    try:\n",
        "        choice = int(input(\"Choose an operation (1/2/3/4): \"))  # Ask user which operation to do\n",
        "        numbers = list(map(float, input(\"Enter numbers separated by spaces: \").split()))  # Get list of numbers\n",
        "\n",
        "        if not numbers:\n",
        "            raise ValueError(\"List is empty. Enter some numbers.\")  # Check if list is empty\n",
        "\n",
        "        if choice == 1:\n",
        "            result = find_sum(numbers)  # Call function to find sum\n",
        "        elif choice == 2:\n",
        "            result = find_average(numbers)  # Call function to find average\n",
        "        elif choice == 3:\n",
        "            result = find_maximum(numbers)  # Call function to find max\n",
        "        elif choice == 4:\n",
        "            result = find_minimum(numbers)  # Call function to find min\n",
        "        else:\n",
        "            print(\"Invalid choice. Pick 1, 2, 3, or 4.\")  # Handle wrong input\n",
        "            return\n",
        "\n",
        "        print(f\"Result: {result:.2f}\")  # Show final answer\n",
        "    except ValueError as e:\n",
        "        print(f\"Error: {e}. Enter numbers correctly.\")  # Handle wrong inputs\n",
        "\n",
        "if __name__ == \"__main__\":\n",
        "    main()\n"
      ],
      "metadata": {
        "id": "6lic7M8uIFkl"
      },
      "execution_count": null,
      "outputs": []
    },
    {
      "cell_type": "markdown",
      "source": [
        "4.2 Exercise on List Manipulation:"
      ],
      "metadata": {
        "id": "V8t1BoMoLs4D"
      }
    },
    {
      "cell_type": "markdown",
      "source": [
        " Write a Python function that extracts every other element from a list, starting from the first element"
      ],
      "metadata": {
        "id": "Nah5hoeFMMmJ"
      }
    },
    {
      "cell_type": "code",
      "source": [
        "def extract_every_other(lst):\n",
        "    \"\"\"\n",
        "    This function takes a list and returns a new list\n",
        "    containing every other element from the original list.\n",
        "    \"\"\"\n",
        "    return lst[::2]  # Select every second element from the list\n",
        "\n",
        "# Example usage\n",
        "numbers = [4, 5, 6, 7, 8, 9]  # Sample list\n",
        "result = extract_every_other(numbers)  # Call function\n",
        "print(result)  # Display result"
      ],
      "metadata": {
        "id": "ckZo7SsIMTAN"
      },
      "execution_count": null,
      "outputs": []
    },
    {
      "cell_type": "markdown",
      "source": [
        " 2. Slice a Sublist:"
      ],
      "metadata": {
        "id": "8KPDtzJ0NMeD"
      }
    },
    {
      "cell_type": "markdown",
      "source": [
        " Write a Python function that returns a sublist from a given list, starting from a specified index and\n",
        " ending at another specified index."
      ],
      "metadata": {
        "id": "MsWE3FNpNP3H"
      }
    },
    {
      "cell_type": "code",
      "source": [
        "def get_sublist(lst, start, end):\n",
        "    return lst[start:end+1]  # Slice the list from 'start' to 'end' (inclusive)\n",
        "\n",
        "# Example usage\n",
        "lst = [1, 2, 3, 4, 5, 6]  # Given list\n",
        "start = 2  # Starting index\n",
        "end = 4  # Ending index\n",
        "\n",
        "result = get_sublist(lst, start, end)  # Get the sublist\n",
        "print(result)  # Print the result\n"
      ],
      "metadata": {
        "id": "MfGj6ErGNS-v"
      },
      "execution_count": null,
      "outputs": []
    },
    {
      "cell_type": "markdown",
      "source": [
        " 3. Reverse a List Using Slicing:"
      ],
      "metadata": {
        "id": "XUa-MLX_OdbN"
      }
    },
    {
      "cell_type": "markdown",
      "source": [
        "Write a Python function that reverses a list using slicing."
      ],
      "metadata": {
        "id": "faZjRAr2OeSK"
      }
    },
    {
      "cell_type": "code",
      "source": [
        "def reverse_slicing(lst):\n",
        "    return lst[::-1]  # Use slicing to reverse the list\n",
        "\n",
        "# Example usage\n",
        "lst = [1, 2, 3, 4, 5]  # Given list\n",
        "result = reverse_slicing(lst)  # Reverse the list\n",
        "print(result)  # Print the reversed list\n"
      ],
      "metadata": {
        "id": "r_BYLelIOhWg"
      },
      "execution_count": null,
      "outputs": []
    },
    {
      "cell_type": "markdown",
      "source": [
        "4. Remove the First and Last Elements:"
      ],
      "metadata": {
        "id": "e5OFt1_1O1Xe"
      }
    },
    {
      "cell_type": "markdown",
      "source": [
        " Write a Python function that removes the first and last elements of a list and returns the resulting\n",
        " sublist."
      ],
      "metadata": {
        "id": "kOwVTU7vO2Nx"
      }
    },
    {
      "cell_type": "code",
      "source": [
        "def remove_first_last(lst):\n",
        "    return lst[1:-1]  # Slice the list to remove the first and last elements\n",
        "\n",
        "# Example usage\n",
        "lst = [1, 2, 3, 4, 5]  # Given list\n",
        "result = remove_first_last(lst)  # Remove first and last elements\n",
        "print(result)  # Print the resulting sublist\n"
      ],
      "metadata": {
        "id": "lrr0tpA6O6EE"
      },
      "execution_count": null,
      "outputs": []
    },
    {
      "cell_type": "markdown",
      "source": [
        "5. Get the First n Elements:"
      ],
      "metadata": {
        "id": "1THwOAw1PGHJ"
      }
    },
    {
      "cell_type": "markdown",
      "source": [
        "Write a Python function that extracts the first n elements from a list."
      ],
      "metadata": {
        "id": "691pTo_ZPG9T"
      }
    },
    {
      "cell_type": "code",
      "source": [
        "def get_first_n(lst, n):\n",
        "    return lst[:n]  # Slice the list to get the first n elements\n",
        "\n",
        "# Example usage\n",
        "lst = [1, 2, 3, 4, 5]  # Given list\n",
        "n = 3  # Number of elements to extract\n",
        "result = get_first_n(lst, n)  # Get the first n elements\n",
        "print(result)  # Print the result\n"
      ],
      "metadata": {
        "id": "6okI0EF0PKkp"
      },
      "execution_count": null,
      "outputs": []
    },
    {
      "cell_type": "markdown",
      "source": [
        "6. Extract Elements from the End:"
      ],
      "metadata": {
        "id": "3nbayMJwPiPz"
      }
    },
    {
      "cell_type": "markdown",
      "source": [
        "Write a Python function that extracts the last n elements of a list using slicing."
      ],
      "metadata": {
        "id": "vNyH9JQWPjOX"
      }
    },
    {
      "cell_type": "code",
      "source": [
        "def get_last_n(lst, n):\n",
        "    return lst[-n:]  # Slice the list to get the last n elements\n",
        "\n",
        "# Example usage\n",
        "lst = [1, 2, 3, 4, 5]  # Given list\n",
        "n = 2  # Number of elements to extract\n",
        "result = get_last_n(lst, n)  # Get the last n elements\n",
        "print(result)  # Print the result\n"
      ],
      "metadata": {
        "id": "J3xdxUYqPmem"
      },
      "execution_count": null,
      "outputs": []
    },
    {
      "cell_type": "markdown",
      "source": [
        "7. Extract Elements in Reverse Order:"
      ],
      "metadata": {
        "id": "xfe2gEq_QPgb"
      }
    },
    {
      "cell_type": "markdown",
      "source": [
        "Write a Python function that extracts a list of elements in reverse order starting from the second-to-last\n",
        " element and skipping one element in between."
      ],
      "metadata": {
        "id": "m-MuIorfQQfm"
      }
    },
    {
      "cell_type": "code",
      "source": [
        "def reverse_skip(lst):\n",
        "    return lst[-2::-2]  # Start from second-to-last and skip every other element moving backward\n",
        "\n",
        "# Example usage\n",
        "lst = [1, 2, 3, 4, 5, 6]  # Given list\n",
        "result = reverse_skip(lst)  # Extract every second element in reverse order\n",
        "print(result)  # Print the result\n"
      ],
      "metadata": {
        "id": "oFXtfA4KQVL0"
      },
      "execution_count": null,
      "outputs": []
    },
    {
      "cell_type": "markdown",
      "source": [
        "**4.3 Exercise on Nested List:**"
      ],
      "metadata": {
        "id": "5HsVDK6oQqtR"
      }
    },
    {
      "cell_type": "markdown",
      "source": [
        " 1. Flatten a Nested List:"
      ],
      "metadata": {
        "id": "3qPHVSmkQuNv"
      }
    },
    {
      "cell_type": "markdown",
      "source": [
        "Write a Python function that takes a nested list and flattens it into a single list, where all the elements\n",
        " are in a single dimension."
      ],
      "metadata": {
        "id": "lGlMY2POQyXM"
      }
    },
    {
      "cell_type": "code",
      "source": [
        "def flatten(lst):\n",
        "    # Use a list comprehension to flatten the list\n",
        "    return [item for sublist in lst for item in sublist]\n",
        "\n",
        "# Example usage\n",
        "nested_lst = [[1, 2], [3, 4], [5]]  # Given nested list\n",
        "result = flatten(nested_lst)  # Flatten the nested list\n",
        "print(result)  # Print the flattened list\n"
      ],
      "metadata": {
        "id": "T5Ggs5KMQ5UN"
      },
      "execution_count": null,
      "outputs": []
    },
    {
      "cell_type": "markdown",
      "source": [
        "2. Accessing Nested List Elements:"
      ],
      "metadata": {
        "id": "OrnyVAOeRUxp"
      }
    },
    {
      "cell_type": "markdown",
      "source": [
        "Write a Python function that extracts a specific element from a nested list given its indices."
      ],
      "metadata": {
        "id": "Ssbw3wtZRbzI"
      }
    },
    {
      "cell_type": "code",
      "source": [
        "def access_nested_element(lst, indices):\n",
        "    # Use the indices to access the element in the nested list\n",
        "    for index in indices:\n",
        "        lst = lst[index]  # Access the sublist at the given index\n",
        "    return lst  # Return the final element\n",
        "\n",
        "# Example usage\n",
        "lst = [[1, 2, 3], [4, 5, 6], [7, 8, 9]]  # Given nested list\n",
        "indices = [1, 2]  # Indices to access the element\n",
        "result = access_nested_element(lst, indices)  # Get the element at the given indices\n",
        "print(result)  # Print the result\n"
      ],
      "metadata": {
        "id": "7O1dj5pvRgII"
      },
      "execution_count": null,
      "outputs": []
    },
    {
      "cell_type": "markdown",
      "source": [
        " 3. Sum of All Elements in a Nested List:"
      ],
      "metadata": {
        "id": "gs9-DYODRnJA"
      }
    },
    {
      "cell_type": "markdown",
      "source": [
        "Write a Python function that calculates the sum of all the numbers in a nested list (regardless of depth)."
      ],
      "metadata": {
        "id": "WHstVTzzRqgA"
      }
    },
    {
      "cell_type": "code",
      "source": [
        "def sum_nested(lst):\n",
        "    total = 0\n",
        "    for item in lst:\n",
        "        if isinstance(item, list):  # If the item is a list, call sum_nested recursively\n",
        "            total += sum_nested(item)\n",
        "        else:\n",
        "            total += item  # If it's not a list, add the value to the total\n",
        "    return total\n",
        "\n",
        "# Example usage\n",
        "lst = [[1, 2], [3, [4, 5]], 6]  # Given nested list\n",
        "result = sum_nested(lst)  # Calculate the sum of all elements\n",
        "print(result)  # Print the result\n"
      ],
      "metadata": {
        "id": "CzWmiYt7Rt5x"
      },
      "execution_count": null,
      "outputs": []
    },
    {
      "cell_type": "markdown",
      "source": [
        " 4. Remove Specific Element from a Nested List:"
      ],
      "metadata": {
        "id": "xAz-EyGkR2hS"
      }
    },
    {
      "cell_type": "markdown",
      "source": [
        "Write a Python function that removes all occurrences of a specific element from a nested list."
      ],
      "metadata": {
        "id": "-aAQRnjeR5cG"
      }
    },
    {
      "cell_type": "code",
      "source": [
        "def remove_element(lst, elem):\n",
        "    for i in range(len(lst)):\n",
        "        if isinstance(lst[i], list):  # If the item is a list, call remove_element recursively\n",
        "            lst[i] = remove_element(lst[i], elem)\n",
        "        else:\n",
        "            if lst[i] == elem:  # Remove the element if it matches\n",
        "                lst[i] = None  # Replace with None temporarily\n",
        "    # Remove any None values\n",
        "    lst = [x for x in lst if x is not None]\n",
        "    return lst\n",
        "\n",
        "# Example usage\n",
        "lst = [[1, 2], [3, 2], [4, 5]]  # Given nested list\n",
        "elem = 2  # Element to remove\n",
        "result = remove_element(lst, elem)  # Remove the element\n",
        "print(result)  # Print the modified list\n"
      ],
      "metadata": {
        "id": "Nj1zF3wKR89R"
      },
      "execution_count": null,
      "outputs": []
    },
    {
      "cell_type": "markdown",
      "source": [
        " 5. Find the Maximum Element in a Nested List:"
      ],
      "metadata": {
        "id": "ucGO34x1SLRZ"
      }
    },
    {
      "cell_type": "markdown",
      "source": [
        "Write a Python function that finds the maximum element in a nested list (regardless of depth)."
      ],
      "metadata": {
        "id": "4nyrClo0SL9f"
      }
    },
    {
      "cell_type": "code",
      "source": [
        "def find_max(lst):\n",
        "    max_elem = float('-inf')  # Start with a very low value\n",
        "    for item in lst:\n",
        "        if isinstance(item, list):  # If the item is a list, call find_max recursively\n",
        "            max_elem = max(max_elem, find_max(item))\n",
        "        else:\n",
        "            max_elem = max(max_elem, item)  # If it's not a list, compare the item with max_elem\n",
        "    return max_elem\n",
        "\n",
        "# Example usage\n",
        "lst = [[1, 2], [3, [4, 5]], 6]  # Given nested list\n",
        "result = find_max(lst)  # Find the maximum element\n",
        "print(result)  # Print the result\n"
      ],
      "metadata": {
        "id": "QapjddU4SO5w"
      },
      "execution_count": null,
      "outputs": []
    },
    {
      "cell_type": "markdown",
      "source": [
        "6. Count Occurrences of an Element in a Nested List:"
      ],
      "metadata": {
        "id": "2igcEWXASbVQ"
      }
    },
    {
      "cell_type": "markdown",
      "source": [
        "Write a Python function that counts how many times a specific element appears in a nested list."
      ],
      "metadata": {
        "id": "53E-4Yw5ScCq"
      }
    },
    {
      "cell_type": "code",
      "source": [
        "def count_occurrences(lst, elem):\n",
        "    count = 0\n",
        "    for item in lst:\n",
        "        if isinstance(item, list):  # If the item is a list, call count_occurrences recursively\n",
        "            count += count_occurrences(item, elem)\n",
        "        else:\n",
        "            if item == elem:  # If it's not a list and matches elem, increment the count\n",
        "                count += 1\n",
        "    return count\n",
        "\n",
        "# Example usage\n",
        "lst = [[1, 2], [2, 3], [2, 4]]  # Given nested list\n",
        "elem = 2  # Element to count occurrences\n",
        "result = count_occurrences(lst, elem)  # Count the occurrences of elem\n",
        "print(result)  # Print the result\n"
      ],
      "metadata": {
        "id": "ncZUliVSSfa6"
      },
      "execution_count": null,
      "outputs": []
    },
    {
      "cell_type": "markdown",
      "source": [
        "7. Flatten a List of Lists of Lists:"
      ],
      "metadata": {
        "id": "AOktweBHSpYh"
      }
    },
    {
      "cell_type": "markdown",
      "source": [
        "Write a Python function that flattens a list of lists of lists into a single list, regardless of the depth."
      ],
      "metadata": {
        "id": "SusVrdkTSp9y"
      }
    },
    {
      "cell_type": "code",
      "source": [
        "def deep_flatten(lst):\n",
        "    flattened = []  # Initialize an empty list to store the flattened elements\n",
        "    for item in lst:\n",
        "        if isinstance(item, list):  # If the item is a list, call deep_flatten recursively\n",
        "            flattened.extend(deep_flatten(item))\n",
        "        else:\n",
        "            flattened.append(item)  # If it's not a list, add the item to the flattened list\n",
        "    return flattened\n",
        "\n",
        "# Example usage\n",
        "lst = [[[1, 2], [3, 4]], [[5, 6], [7, 8]]]  # Given deeply nested list\n",
        "result = deep_flatten(lst)  # Flatten the deeply nested list\n",
        "print(result)  # Print the result\n"
      ],
      "metadata": {
        "id": "DC99outuSs0B"
      },
      "execution_count": null,
      "outputs": []
    },
    {
      "cell_type": "markdown",
      "source": [
        " 8. Nested List Average:"
      ],
      "metadata": {
        "id": "XEHzyDzoS2yT"
      }
    },
    {
      "cell_type": "markdown",
      "source": [
        "Write a Python function that calculates the average of all elements in a nested list."
      ],
      "metadata": {
        "id": "JZXaNOOsS3oZ"
      }
    },
    {
      "cell_type": "code",
      "source": [
        "def average_nested(lst):\n",
        "    total = 0\n",
        "    count = 0\n",
        "    for item in lst:\n",
        "        if isinstance(item, list):  # If the item is a list, call average_nested recursively\n",
        "            sub_total, sub_count = average_nested(item)\n",
        "            total += sub_total\n",
        "            count += sub_count\n",
        "        else:\n",
        "            total += item  # If it's not a list, add the item to the total\n",
        "            count += 1  # Increment the count for each item\n",
        "    return total, count  # Return total sum and count of elements\n",
        "\n",
        "# Example usage\n",
        "lst = [[1, 2], [3, 4], [5, 6]]  # Given nested list\n",
        "total, count = average_nested(lst)  # Calculate the total and count\n",
        "average = total / count  # Calculate the average\n",
        "print(average)  # Print the average\n"
      ],
      "metadata": {
        "id": "LJ4iMdTES7Ep"
      },
      "execution_count": null,
      "outputs": []
    },
    {
      "cell_type": "markdown",
      "source": [
        "10.1 Basic Vector and Matrix Operation with Numpy."
      ],
      "metadata": {
        "id": "_CeVVtziX59l"
      }
    },
    {
      "cell_type": "markdown",
      "source": [
        " Problem- 1: Array Creation:"
      ],
      "metadata": {
        "id": "yQH3z7NjYCdM"
      }
    },
    {
      "cell_type": "code",
      "source": [
        "import numpy as np\n",
        "\n",
        "# 1. Initialize an empty array with size 2X2\n",
        "empty_array = np.empty((2, 2))  # Creates an empty array of shape 2x2\n",
        "print(\"Empty Array (2x2):\")\n",
        "print(empty_array)\n",
        "\n",
        "# 2. Initialize an all one array with size 4X2\n",
        "ones_array = np.ones((4, 2))  # Creates an array of ones with shape 4x2\n",
        "print(\"\\nAll Ones Array (4x2):\")\n",
        "print(ones_array)\n",
        "\n",
        "# 3. Return a new array of given shape and type, filled with fill value\n",
        "shape = (3, 3)  # Example shape (3x3)\n",
        "fill_value = 7  # Fill value to use for the array\n",
        "filled_array = np.full(shape, fill_value)  # Creates an array of shape (3x3) filled with value 7\n",
        "print(\"\\nArray Filled with Value 7 (3x3):\")\n",
        "print(filled_array)\n",
        "\n",
        "# 4. Return a new array of zeros with same shape and type as a given array\n",
        "reference_array = np.array([[5, 6], [7, 8]])  # A reference array to match shape\n",
        "zeros_like_array = np.zeros_like(reference_array)  # Creates an array of zeros with the same shape and type as reference_array\n",
        "print(\"\\nZeros-like Array with Same Shape as Reference Array:\")\n",
        "print(zeros_like_array)\n",
        "\n",
        "# 5. Return a new array of ones with same shape and type as a given array\n",
        "ones_like_array = np.ones_like(reference_array)  # Creates an array of ones with the same shape and type as reference_array\n",
        "print(\"\\nOnes-like Array with Same Shape as Reference Array:\")\n",
        "print(ones_like_array)\n",
        "\n",
        "# 6. Convert an existing list to a NumPy array\n",
        "new_list = [1, 2, 3, 4]  # A simple Python list\n",
        "numpy_array = np.array(new_list)  # Converts the Python list to a NumPy array\n",
        "print(\"\\nConverted List to NumPy Array:\")\n",
        "print(numpy_array)\n"
      ],
      "metadata": {
        "id": "PrkAj3Eieqo2"
      },
      "execution_count": null,
      "outputs": []
    },
    {
      "cell_type": "markdown",
      "source": [
        " Problem- 2: Array Manipulation: Numerical Ranges and Array indexing:"
      ],
      "metadata": {
        "id": "bz4Xfti9fAKv"
      }
    },
    {
      "cell_type": "code",
      "source": [
        "import numpy as np\n",
        "\n",
        "# 1. Create an array with values ranging from 10 to 49\n",
        "array_1 = np.arange(10, 50)  # Create an array from 10 to 49\n",
        "print(\"Array with values from 10 to 49:\")\n",
        "print(array_1)\n",
        "\n",
        "# 2. Create a 3X3 matrix with values ranging from 0 to 8\n",
        "matrix_2 = np.arange(9).reshape(3, 3)  # Create an array from 0 to 8 and reshape it into a 3x3 matrix\n",
        "print(\"\\n3X3 matrix with values ranging from 0 to 8:\")\n",
        "print(matrix_2)\n",
        "\n",
        "# 3. Create a 3X3 identity matrix\n",
        "identity_matrix = np.eye(3)  # Create a 3x3 identity matrix (1s on the diagonal, 0s elsewhere)\n",
        "print(\"\\n3X3 Identity matrix:\")\n",
        "print(identity_matrix)\n",
        "\n",
        "# 4. Create a random array of size 30 and find the mean of the array\n",
        "random_array = np.random.random(30)  # Create a random array of 30 values\n",
        "mean_value = random_array.mean()  # Find the mean of the random array\n",
        "print(\"\\nRandom array of size 30:\")\n",
        "print(random_array)\n",
        "print(\"Mean of the array:\", mean_value)\n",
        "\n",
        "# 5. Create a 10X10 array with random values and find the minimum and maximum values\n",
        "array_5 = np.random.random((10, 10))  # Create a 10x10 array with random values\n",
        "min_value = array_5.min()  # Find the minimum value in the array\n",
        "max_value = array_5.max()  # Find the maximum value in the array\n",
        "print(\"\\n10X10 array with random values:\")\n",
        "print(array_5)\n",
        "print(\"Minimum value:\", min_value)\n",
        "print(\"Maximum value:\", max_value)\n",
        "\n",
        "# 6. Create a zero array of size 10 and replace the 5th element with 1\n",
        "zero_array = np.zeros(10)  # Create an array of 10 zeros\n",
        "zero_array[4] = 1  # Replace the 5th element (index 4) with 1\n",
        "print(\"\\nZero array with the 5th element replaced by 1:\")\n",
        "print(zero_array)\n",
        "\n",
        "# 7. Reverse an array arr = [1, 2, 0, 0, 4, 0]\n",
        "arr = np.array([1, 2, 0, 0, 4, 0])  # Create a numpy array\n",
        "reversed_arr = arr[::-1]  # Reverse the array using slicing\n",
        "print(\"\\nReversed array:\")\n",
        "print(reversed_arr)\n",
        "\n",
        "# 8. Create a 2d array with 1 on the border and 0 inside\n",
        "border_array = np.ones((5, 5))  # Create a 5x5 array filled with ones\n",
        "border_array[1:-1, 1:-1] = 0  # Set the inner elements to 0 (excluding the border)\n",
        "print(\"\\n2D array with 1 on border and 0 inside:\")\n",
        "print(border_array)\n",
        "\n",
        "# 9. Create an 8X8 matrix and fill it with a checkerboard pattern\n",
        "checkerboard = np.zeros((8, 8), dtype=int)  # Create an 8x8 array filled with zeros\n",
        "checkerboard[1::2, ::2] = 1  # Set alternating elements to 1\n",
        "checkerboard[::2, 1::2] = 1  # Set alternating elements to 1 in the other direction\n",
        "print(\"\\n8X8 Checkerboard pattern matrix:\")\n",
        "print(checkerboard)\n"
      ],
      "metadata": {
        "id": "lSE5mW8KfHyf"
      },
      "execution_count": null,
      "outputs": []
    },
    {
      "cell_type": "markdown",
      "source": [
        "Problem- 3: Array Operations:"
      ],
      "metadata": {
        "id": "X6pynPAgh31e"
      }
    },
    {
      "cell_type": "code",
      "source": [
        "import numpy as np\n",
        "\n",
        "# Define the arrays\n",
        "x = np.array([[1, 2], [3, 5]])  # 2x2 matrix\n",
        "y = np.array([[5, 6], [7, 8]])  # 2x2 matrix\n",
        "v = np.array([9, 10])           # 1D array with 2 elements\n",
        "w = np.array([11, 12])          # 1D array with 2 elements\n",
        "\n",
        "# 1. Add the two arrays\n",
        "add_result = x + y  # Element-wise addition of arrays x and y\n",
        "print(\"Addition of x and y:\")\n",
        "print(add_result)\n",
        "\n",
        "# 2. Subtract the two arrays\n",
        "subtract_result = x - y  # Element-wise subtraction of arrays x and y\n",
        "print(\"\\nSubtraction of x and y:\")\n",
        "print(subtract_result)\n",
        "\n",
        "# 3. Multiply the array with any integers of your choice\n",
        "multiply_result = x * 2  # Multiply every element in array x by 2\n",
        "print(\"\\nMultiplying x by 2:\")\n",
        "print(multiply_result)\n",
        "\n",
        "# 4. Find the square of each element of the array\n",
        "square_result = np.square(x)  # Square each element of array x\n",
        "print(\"\\nSquare of each element in x:\")\n",
        "print(square_result)\n",
        "\n",
        "# 5. Find the dot product between:\n",
        "# v and w\n",
        "dot_v_w = np.dot(v, w)  # Dot product of v and w (scalar result)\n",
        "print(\"\\nDot product of v and w:\")\n",
        "print(dot_v_w)\n",
        "\n",
        "# x and v\n",
        "dot_x_v = np.dot(x, v)  # Dot product of x and v (matrix-vector multiplication)\n",
        "print(\"\\nDot product of x and v:\")\n",
        "print(dot_x_v)\n",
        "\n",
        "# x and y\n",
        "dot_x_y = np.dot(x, y)  # Dot product of x and y (matrix-matrix multiplication)\n",
        "print(\"\\nDot product of x and y:\")\n",
        "print(dot_x_y)\n",
        "\n",
        "# 6. Concatenate x and y along rows and concatenate v and w along columns\n",
        "concat_x_y_row = np.concatenate((x, y), axis=0)  # Concatenate x and y along rows (stack vertically)\n",
        "print(\"\\nConcatenating x and y along rows:\")\n",
        "print(concat_x_y_row)\n",
        "\n",
        "concat_v_w_column = np.concatenate((v.reshape(-1, 1), w.reshape(-1, 1)), axis=1)  # Reshape v and w to column vectors, then concatenate along columns\n",
        "print(\"\\nConcatenating v and w along columns:\")\n",
        "print(concat_v_w_column)\n",
        "\n",
        "# 7. Concatenate x and v; if an error occurs, observe and explain\n",
        "try:\n",
        "    concat_x_v = np.concatenate((x, v), axis=0)  # Try concatenating x and v along rows\n",
        "    print(\"\\nConcatenating x and v along rows:\")\n",
        "    print(concat_x_v)\n",
        "except Exception as e:\n",
        "    print(\"\\nError occurred while concatenating x and v:\")\n",
        "    print(e)\n"
      ],
      "metadata": {
        "id": "FunOQ6Hch41l"
      },
      "execution_count": null,
      "outputs": []
    },
    {
      "cell_type": "markdown",
      "source": [
        " Problem- 4: Matrix Operations:"
      ],
      "metadata": {
        "id": "O4MVyNSCjFBW"
      }
    },
    {
      "cell_type": "markdown",
      "source": [
        "For the following arrays:\n",
        " A = np.array([[3,4],[7,8]]) and B = np.array([[5,3],[2,1]]);\n",
        " Prove following with Numpy:"
      ],
      "metadata": {
        "id": "NnVo26PvjtHe"
      }
    },
    {
      "cell_type": "markdown",
      "source": [
        " 1. Prove A.A−1 = I."
      ],
      "metadata": {
        "id": "b_eigAVkjuDu"
      }
    },
    {
      "cell_type": "code",
      "source": [
        "import numpy as np\n",
        "\n",
        "# Matrix A\n",
        "A = np.array([[3, 4], [7, 8]])\n",
        "\n",
        "# Find the inverse of A\n",
        "A_inv = np.linalg.inv(A)\n",
        "\n",
        "# Multiply A by A's inverse\n",
        "result = np.dot(A, A_inv)\n",
        "\n",
        "# Output the result to verify it is the identity matrix\n",
        "print(\"A * A^-1 =\\n\", result)\n"
      ],
      "metadata": {
        "id": "mx2poNVJjxSt"
      },
      "execution_count": null,
      "outputs": []
    },
    {
      "cell_type": "markdown",
      "source": [
        " 2. Prove AB= BA."
      ],
      "metadata": {
        "id": "UEWOegyyj1UG"
      }
    },
    {
      "cell_type": "code",
      "source": [
        "# Matrix B\n",
        "B = np.array([[5, 3], [2, 1]])\n",
        "\n",
        "# Compute AB and BA\n",
        "AB = np.dot(A, B)\n",
        "BA = np.dot(B, A)\n",
        "\n",
        "# Output both products\n",
        "print(\"AB =\\n\", AB)\n",
        "print(\"BA =\\n\", BA)\n",
        "\n",
        "# Check if AB equals BA\n",
        "if np.array_equal(AB, BA):\n",
        "    print(\"AB = BA\")\n",
        "else:\n",
        "    print(\"AB != BA\")\n"
      ],
      "metadata": {
        "id": "sfkiXDEGj4yG"
      },
      "execution_count": null,
      "outputs": []
    },
    {
      "cell_type": "markdown",
      "source": [
        " 3. Prove (AB)T = BTAT."
      ],
      "metadata": {
        "id": "-Fy7oUiDj9vO"
      }
    },
    {
      "cell_type": "code",
      "source": [
        "# Compute (AB)^T\n",
        "AB_T = np.transpose(AB)\n",
        "\n",
        "# Compute B^T * A^T\n",
        "B_T = np.transpose(B)\n",
        "A_T = np.transpose(A)\n",
        "B_T_A_T = np.dot(B_T, A_T)\n",
        "\n",
        "# Output both results\n",
        "print(\"(AB)^T =\\n\", AB_T)\n",
        "print(\"B^T * A^T =\\n\", B_T_A_T)\n",
        "\n",
        "# Check if (AB)^T equals B^T * A^T\n",
        "if np.array_equal(AB_T, B_T_A_T):\n",
        "    print(\"(AB)^T = B^T * A^T\")\n",
        "else:\n",
        "    print(\"(AB)^T != B^T * A^T\")\n"
      ],
      "metadata": {
        "id": "JXfjvUlIkA6I"
      },
      "execution_count": null,
      "outputs": []
    },
    {
      "cell_type": "markdown",
      "source": [
        "Solve the following system of Linear equation using Inverse Methods.\n",
        " 2x −3y+z =−1\n",
        " x −y+2z =−3\n",
        " 3x +y−z =9"
      ],
      "metadata": {
        "id": "R5tefPtikXfN"
      }
    },
    {
      "cell_type": "code",
      "source": [
        "# Coefficient matrix A\n",
        "A = np.array([[2, -3, 1],\n",
        "              [1, -1, 2],\n",
        "              [3, 1, -1]])\n",
        "\n",
        "# Constants matrix B\n",
        "B = np.array([-1, -3, 9])\n",
        "\n",
        "# Find the inverse of A\n",
        "A_inv = np.linalg.inv(A)\n",
        "\n",
        "# Solve for X (the variables x, y, z)\n",
        "X = np.dot(A_inv, B)\n",
        "\n",
        "# Output the solution for x, y, z\n",
        "print(\"Solution for x, y, z:\", X)\n"
      ],
      "metadata": {
        "id": "B3e_K5wKkYpe"
      },
      "execution_count": null,
      "outputs": []
    },
    {
      "cell_type": "markdown",
      "source": [
        "10.2 Experiment: How Fast is Numpy?"
      ],
      "metadata": {
        "id": "qnBlYgztlRdv"
      }
    },
    {
      "cell_type": "markdown",
      "source": [
        " 1. Element-wise Addition:"
      ],
      "metadata": {
        "id": "UqKbTk3Blf-U"
      }
    },
    {
      "cell_type": "markdown",
      "source": [
        "2. Element-wise Multiplication"
      ],
      "metadata": {
        "id": "yS2cSZ7AnWud"
      }
    },
    {
      "cell_type": "markdown",
      "source": [
        " 3. Dot Product"
      ],
      "metadata": {
        "id": "h9Ti4t6CnZY5"
      }
    },
    {
      "cell_type": "markdown",
      "source": [
        "4. Matrix Multiplication"
      ],
      "metadata": {
        "id": "l3JqopAHnb0Y"
      }
    },
    {
      "cell_type": "code",
      "source": [
        "import numpy as np  # Import NumPy for efficient operations\n",
        "import time  # Import time module to measure execution time\n",
        "\n",
        "# Define the size of the arrays\n",
        "size = 1_000_000  # 1 million elements\n",
        "\n",
        "### 1. Element-wise Addition ###\n",
        "\n",
        "# Using Python Lists\n",
        "list1 = [i for i in range(size)]\n",
        "list2 = [i for i in range(size)]\n",
        "\n",
        "start_time = time.time()  # Start timing\n",
        "list_sum = [list1[i] + list2[i] for i in range(size)]  # Perform addition\n",
        "end_time = time.time()  # End timing\n",
        "\n",
        "print(\"Time for element-wise addition using Python lists:\", end_time - start_time, \"seconds\")\n",
        "\n",
        "# Using NumPy Arrays\n",
        "array1 = np.arange(size)\n",
        "array2 = np.arange(size)\n",
        "\n",
        "start_time = time.time()\n",
        "array_sum = array1 + array2  # Perform addition using NumPy\n",
        "end_time = time.time()\n",
        "\n",
        "print(\"Time for element-wise addition using NumPy:\", end_time - start_time, \"seconds\")\n",
        "\n",
        "### 2. Element-wise Multiplication ###\n",
        "\n",
        "# Using Python Lists\n",
        "start_time = time.time()\n",
        "list_product = [list1[i] * list2[i] for i in range(size)]  # Multiply elements\n",
        "end_time = time.time()\n",
        "\n",
        "print(\"Time for element-wise multiplication using Python lists:\", end_time - start_time, \"seconds\")\n",
        "\n",
        "# Using NumPy Arrays\n",
        "start_time = time.time()\n",
        "array_product = array1 * array2  # Multiply elements using NumPy\n",
        "end_time = time.time()\n",
        "\n",
        "print(\"Time for element-wise multiplication using NumPy:\", end_time - start_time, \"seconds\")\n",
        "\n",
        "### 3. Dot Product ###\n",
        "\n",
        "# Using Python Lists\n",
        "start_time = time.time()\n",
        "dot_product_list = sum(list1[i] * list2[i] for i in range(size))  # Compute dot product\n",
        "end_time = time.time()\n",
        "\n",
        "print(\"Time for dot product using Python lists:\", end_time - start_time, \"seconds\")\n",
        "\n",
        "# Using NumPy Arrays\n",
        "start_time = time.time()\n",
        "dot_product_numpy = np.dot(array1, array2)  # Compute dot product using NumPy\n",
        "end_time = time.time()\n",
        "\n",
        "print(\"Time for dot product using NumPy:\", end_time - start_time, \"seconds\")\n",
        "\n",
        "### 4. Matrix Multiplication ###\n",
        "\n",
        "# Define matrix size\n",
        "matrix_size = 1000  # 1000x1000 matrix\n",
        "\n",
        "# Using Python Lists\n",
        "matrix1 = [[1 for _ in range(matrix_size)] for _ in range(matrix_size)]\n",
        "matrix2 = [[1 for _ in range(matrix_size)] for _ in range(matrix_size)]\n",
        "\n",
        "start_time = time.time()\n",
        "\n",
        "# Perform matrix multiplication manually using nested loops\n",
        "result_matrix = [[sum(matrix1[i][k] * matrix2[k][j] for k in range(matrix_size)) for j in range(matrix_size)] for i in range(matrix_size)]\n",
        "\n",
        "end_time = time.time()\n",
        "print(\"Time for matrix multiplication using Python lists:\", end_time - start_time, \"seconds\")\n",
        "\n",
        "# Using NumPy Arrays\n",
        "array1 = np.ones((matrix_size, matrix_size))\n",
        "array2 = np.ones((matrix_size, matrix_size))\n",
        "\n",
        "start_time = time.time()\n",
        "\n",
        "result_array = np.dot(array1, array2)  # Use NumPy's dot function for fast multiplication\n",
        "\n",
        "end_time = time.time()\n",
        "print(\"Time for matrix multiplication using NumPy:\", end_time - start_time, \"seconds\")\n"
      ],
      "metadata": {
        "id": "QZy7JMtKm95f"
      },
      "execution_count": null,
      "outputs": []
    }
  ]
}